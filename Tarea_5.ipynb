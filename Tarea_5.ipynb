{
  "nbformat": 4,
  "nbformat_minor": 0,
  "metadata": {
    "colab": {
      "name": "Tarea 5.ipynb",
      "provenance": [],
      "collapsed_sections": [],
      "authorship_tag": "ABX9TyNOE8U8gpUxxoQsflmAaQ01",
      "include_colab_link": true
    },
    "kernelspec": {
      "name": "python3",
      "display_name": "Python 3"
    },
    "language_info": {
      "name": "python"
    }
  },
  "cells": [
    {
      "cell_type": "markdown",
      "metadata": {
        "id": "view-in-github",
        "colab_type": "text"
      },
      "source": [
        "<a href=\"https://colab.research.google.com/github/victorceddiaz/Tarea-5./blob/main/Tarea_5.ipynb\" target=\"_parent\"><img src=\"https://colab.research.google.com/assets/colab-badge.svg\" alt=\"Open In Colab\"/></a>"
      ]
    },
    {
      "cell_type": "markdown",
      "metadata": {
        "id": "gK5EXwx8ln29"
      },
      "source": [
        "##Tarea 5. ArrayADT\n",
        "\n",
        "\n",
        "Alumno: Cedillo Díaz Victor Antonio \n",
        "\n",
        "Grupo: 1360\n",
        "\n",
        "Materia: Estructura de Datos"
      ]
    },
    {
      "cell_type": "code",
      "metadata": {
        "id": "OA8zoO5Hn6G7"
      },
      "source": [
        "class Trabajador:\n",
        "    def __init__(self, string) :\n",
        "        datos=string.split(',')\n",
        "        self.__numero_trabajador=int(datos[0])\n",
        "        self.__nombre=datos[1]\n",
        "        self.__apellido_paterno=datos[2]\n",
        "        self.__apellido_materno=datos[3]\n",
        "        self.__horas_extras=int(datos[4])\n",
        "        self.__sueldo_base=int(datos[5])\n",
        "        self.__anio=int(datos[6])\n",
        "\n",
        "    def get_numero_trabajador (self) :\n",
        "        return self.__numero_trabajador\n",
        "\n",
        "    def set_numero_trabajador(self, nt) :\n",
        "        self.__numero_trabajador=nt \n",
        "\n",
        "    def get_nombre (self) :\n",
        "        return self.__nombre\n",
        "\n",
        "    def set_nombre(self, nom) :\n",
        "        self.__nombre=nom\n",
        "\n",
        "    def get_apellido_paterno(self) :\n",
        "        return self.__apellido_paterno\n",
        "\n",
        "    def set_apellido_paterno(self, pat) :\n",
        "        self.__apellido_paterno = pat\n",
        "    \n",
        "    def get_apellido_materno(self) :\n",
        "        return self.__apellido_materno\n",
        "\n",
        "    def set_apellido_materno(self, mat) :\n",
        "        self.__apellido_materno = mat\n",
        "    \n",
        "    def get_horas_extras(self) :\n",
        "        return self.__horas_extras\n",
        "\n",
        "    def set_horas_extras(self, he) :\n",
        "        self.__horas_extras = he\n",
        "    \n",
        "    def get_sueldo_base(self) :\n",
        "        return self.__sueldo_base\n",
        "\n",
        "    def set_sueldo_base(self, sb) :\n",
        "        self.__sueldo_base = sb\n",
        "\n",
        "    def get_anio(self) :\n",
        "        return self.__anio\n",
        "\n",
        "    def set_anio(self, ai) :\n",
        "        self.__anio = ai\n",
        "    \n",
        "    def to_String (self) : \n",
        "        return \"Número de trabajador : \" + str(self.__numero_trabajador) + \"\\nNombre : \" + self.__nombre + \"\\nApellido Paterno : \" + self.__apellido_paterno + \"\\nApellido Materno : \" + self.__apellido_materno + \"\\nHoras Extras : \" + str(self.__horas_extras) + \"\\nSueldo Base : \" + str(self.__sueldo_base) + \"\\nAño de Ingreso : \" + str(self.__anio)"
      ],
      "execution_count": 144,
      "outputs": []
    },
    {
      "cell_type": "code",
      "metadata": {
        "id": "m9uppZCeqHn6"
      },
      "source": [
        "class nominaADT:\n",
        "    def __init__(self, ruta_archivo) :\n",
        "        archivo = open(ruta_archivo, 'rt', encoding='latin-1')\n",
        "        info = archivo.readlines()\n",
        "        del info[0]\n",
        "        for index in range(len(info)) :\n",
        "            info[index]=info[index].strip()\n",
        "        self.__trabajadores=[]\n",
        "        for index in range(len(info)) :\n",
        "            self.__trabajadores.append(Trabajador(info[index]))\n",
        "        \n",
        "    def calcular_sueldos(self) :\n",
        "        for index in range(len(self.__trabajadores)) :\n",
        "            antiguedad = 2021 - (self.__trabajadores[index].get_anio())\n",
        "            prestacion = (self.__trabajadores[index].get_sueldo_base())*(antiguedad*0.03)\n",
        "            extras = 276.5 * (self.__trabajadores[index].get_horas_extras())\n",
        "            total = self.__trabajadores[index].get_sueldo_base() + prestacion + extras\n",
        "            self.__trabajadores[index].set_sueldo_base(total)\n",
        "\n",
        "    def buscar_menor_antiguo(self) :\n",
        "        print(\"Trabajadores con menor antiguedad : \\n\")\n",
        "        anios = []\n",
        "        for index in range(len(self.__trabajadores)) : \n",
        "            anios.append(self.__trabajadores[index].get_anio())\n",
        "        anios.sort()\n",
        "        anios.reverse()\n",
        "        menor_antiguo = anios[0]\n",
        "        for index in range(len(self.__trabajadores)) : \n",
        "            if menor_antiguo == self.__trabajadores[index].get_anio() :\n",
        "                print(self.__trabajadores[index].to_String() + \"\\n\")\n",
        "        \n",
        "\n",
        "    def buscar_mas_antiguo(self) :\n",
        "        print(\"Trabajadores con mayor antiguedad : \\n\")\n",
        "        anios = []\n",
        "        for index in range(len(self.__trabajadores)) : \n",
        "            anios.append(self.__trabajadores[index].get_anio())\n",
        "        anios.sort()\n",
        "        mas_antiguo = anios[0]\n",
        "        for index in range(len(self.__trabajadores)) : \n",
        "            if mas_antiguo == self.__trabajadores[index].get_anio() :\n",
        "                print(self.__trabajadores[index].to_String() + \"\\n\")"
      ],
      "execution_count": 145,
      "outputs": []
    },
    {
      "cell_type": "code",
      "metadata": {
        "colab": {
          "base_uri": "https://localhost:8080/"
        },
        "id": "YW_a9EjHlQhZ",
        "outputId": "3846fb63-5e5d-4e0c-ec30-3bf0cf0b6030"
      },
      "source": [
        "empleado=nominaADT('junio.dat')\n",
        "empleado.buscar_menor_antiguo()\n",
        "print(\"--------------------------------------------\")\n",
        "empleado.buscar_mas_antiguo()"
      ],
      "execution_count": 146,
      "outputs": [
        {
          "output_type": "stream",
          "name": "stdout",
          "text": [
            "Trabajadores con menor antiguedad : \n",
            "\n",
            "Número de trabajador : 5754\n",
            "Nombre : ANGEL\n",
            "Apellido Paterno : GOMEZ\n",
            "Apellido Materno : GARRIDO\n",
            "Horas Extras : 1\n",
            "Sueldo Base : 9850\n",
            "Año de Ingreso : 2020\n",
            "\n",
            "Número de trabajador : 4323\n",
            "Nombre : JORGE\n",
            "Apellido Paterno : GUTIERREZ\n",
            "Apellido Materno : MARQUEZ\n",
            "Horas Extras : 2\n",
            "Sueldo Base : 9850\n",
            "Año de Ingreso : 2020\n",
            "\n",
            "--------------------------------------------\n",
            "Trabajadores con mayor antiguedad : \n",
            "\n",
            "Número de trabajador : 5345\n",
            "Nombre : JESUS\n",
            "Apellido Paterno : MARTIN\n",
            "Apellido Materno : SANTOS\n",
            "Horas Extras : 2\n",
            "Sueldo Base : 9850\n",
            "Año de Ingreso : 2016\n",
            "\n",
            "Número de trabajador : 2232\n",
            "Nombre : RAMON\n",
            "Apellido Paterno : NAVARRO\n",
            "Apellido Materno : LEON\n",
            "Horas Extras : 1\n",
            "Sueldo Base : 9850\n",
            "Año de Ingreso : 2016\n",
            "\n"
          ]
        }
      ]
    }
  ]
}